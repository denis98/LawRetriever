{
 "cells": [
  {
   "cell_type": "markdown",
   "id": "53b80fd1-dcf2-4e73-9893-1533e3d8e34e",
   "metadata": {},
   "source": [
    "## Indexing"
   ]
  },
  {
   "cell_type": "code",
   "execution_count": null,
   "id": "c5073047-4be5-43a5-a27e-99e7a74eb542",
   "metadata": {},
   "outputs": [],
   "source": [
    "from connection import collection_name, client"
   ]
  },
  {
   "cell_type": "code",
   "execution_count": null,
   "id": "c393cfd0-e8c9-4e25-82fe-ca7e978996dd",
   "metadata": {},
   "outputs": [],
   "source": [
    "from uuid import uuid4\n",
    "import os\n",
    "from langchain_chroma import Chroma\n",
    "\n",
    "from LawEmbeddings import LawEmbeddings\n",
    "from LawDocumentLoader import LawDocumentLoader\n",
    "\n",
    "def index_law(law, collection):\n",
    "    filename = f\"data/{law}.txt\"\n",
    "    if not os.path.exists(filename):\n",
    "        raise FileNotFoundError(f\"Die LAW.txt file does not exist. Please make sure to run the converter first.\")\n",
    "\n",
    "    lawembeddings = LawEmbeddings()\n",
    "    vectorstore = Chroma(\n",
    "        client=client,\n",
    "        collection_name=collection,\n",
    "        embedding_function=lawembeddings,\n",
    "    )\n",
    "    \n",
    "    loader = LawDocumentLoader(filename)\n",
    "    for doc in loader.lazy_load():\n",
    "        vectorstore.add_documents(documents=[doc], ids=[str(uuid4())])"
   ]
  },
  {
   "cell_type": "code",
   "execution_count": null,
   "id": "92140ad6-2f89-4d0e-bdcf-be450b231555",
   "metadata": {},
   "outputs": [],
   "source": [
    "index_law('bgb', collection_name)"
   ]
  },
  {
   "cell_type": "markdown",
   "id": "0c3f6f80-790d-4c4c-bc80-f57f3c9b46e3",
   "metadata": {},
   "source": [
    "### Lookup indexed documents"
   ]
  },
  {
   "cell_type": "code",
   "execution_count": null,
   "id": "aa79ae58-259b-4746-8ffa-7c40dd19ee5e",
   "metadata": {},
   "outputs": [],
   "source": [
    "from LawEmbeddings import LawEmbeddings\n",
    "\n",
    "def check_indexed_documents(collection):\n",
    "    lawembeddings = LawEmbeddings()\n",
    "    vectorstore = Chroma(\n",
    "        client=client,\n",
    "        collection_name=collection,\n",
    "        embedding_function=lawembeddings,\n",
    "    )\n",
    "    \n",
    "    all_documents = vectorstore._collection.get()['metadatas']\n",
    "    print(len(all_documents))\n",
    "    \n",
    "    for i, metadata in enumerate(all_documents):\n",
    "        print(f\"Dokument {i+1}: {metadata}\")\n",
    "\n",
    "check_indexed_documents(collection_name)"
   ]
  },
  {
   "cell_type": "code",
   "execution_count": null,
   "id": "780fb643-83d7-4fea-a3bc-fd1a04ed3ad1",
   "metadata": {},
   "outputs": [],
   "source": []
  }
 ],
 "metadata": {
  "kernelspec": {
   "display_name": "Python . (XPython)",
   "language": "python",
   "name": "xpython"
  },
  "language_info": {
   "file_extension": ".py",
   "mimetype": "text/x-python",
   "name": "python",
   "version": "3.12.9"
  }
 },
 "nbformat": 4,
 "nbformat_minor": 5
}
