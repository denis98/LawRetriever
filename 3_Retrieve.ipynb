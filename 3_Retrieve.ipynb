{
 "cells": [
  {
   "cell_type": "markdown",
   "id": "3df9b595-448a-4268-99c1-4315bd32e626",
   "metadata": {},
   "source": [
    "# Retrieve"
   ]
  },
  {
   "cell_type": "code",
   "execution_count": null,
   "id": "6783e4fe-1c2b-4894-9e17-a55b560b91dd",
   "metadata": {},
   "outputs": [],
   "source": [
    "from langchain_chroma import Chroma\n",
    "from LawEmbeddings import LawEmbeddings\n",
    "from connection import client, collection_name\n",
    "\n",
    "k = 5 # Number of retrieved results\n",
    "\n",
    "queryembeddings = LawEmbeddings(embed_type=\"query\")\n",
    "\n",
    "querystore = Chroma(\n",
    "    client=client,\n",
    "    collection_name=collection_name,\n",
    "    embedding_function=queryembeddings,\n",
    ")"
   ]
  },
  {
   "cell_type": "markdown",
   "id": "3516cb16-b554-486f-bacf-76cc4787210e",
   "metadata": {},
   "source": [
    "## MMR-Retriever"
   ]
  },
  {
   "cell_type": "code",
   "execution_count": null,
   "id": "ca2dd51d-4e28-4d8c-a785-add978be5ef3",
   "metadata": {},
   "outputs": [],
   "source": [
    "retriever = querystore.as_retriever(\n",
    "    search_type=\"mmr\",\n",
    "    search_kwargs={\"k\": k, \"fetch_k\": k, \"lambda_mult\": 0.5},\n",
    ")"
   ]
  },
  {
   "cell_type": "markdown",
   "id": "a10f9d20-d9b0-49d7-ba3f-833c62d22be5",
   "metadata": {},
   "source": [
    "## Similarity"
   ]
  },
  {
   "cell_type": "code",
   "execution_count": null,
   "id": "e81da349-a005-4119-8885-a6785bad8bce",
   "metadata": {},
   "outputs": [],
   "source": [
    "retriever = querystore.as_retriever(\n",
    "    search_type=\"similarity\",\n",
    "    search_kwargs={\"k\": k},\n",
    ")"
   ]
  },
  {
   "cell_type": "markdown",
   "id": "da97c3f8-61cb-46da-b7b1-eeed667d617a",
   "metadata": {},
   "source": [
    "# Test"
   ]
  },
  {
   "cell_type": "code",
   "execution_count": null,
   "id": "3cbece4c-68d5-45ac-9eeb-c3a61a01e4dc",
   "metadata": {},
   "outputs": [],
   "source": [
    "retriever.invoke(\"Schadensersatz\")"
   ]
  }
 ],
 "metadata": {
  "kernelspec": {
   "display_name": "Python 3 (ipykernel)",
   "language": "python",
   "name": "python3"
  },
  "language_info": {
   "codemirror_mode": {
    "name": "ipython",
    "version": 3
   },
   "file_extension": ".py",
   "mimetype": "text/x-python",
   "name": "python",
   "nbconvert_exporter": "python",
   "pygments_lexer": "ipython3",
   "version": "3.12.2"
  }
 },
 "nbformat": 4,
 "nbformat_minor": 5
}
