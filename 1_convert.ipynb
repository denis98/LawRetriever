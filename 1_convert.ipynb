{
 "cells": [
  {
   "cell_type": "markdown",
   "id": "006785b6-a3f2-4e64-9f80-11d314d975c8",
   "metadata": {},
   "source": [
    "# BGB-Retriever"
   ]
  },
  {
   "cell_type": "markdown",
   "id": "bf1c6b5c-301f-4257-a930-275200f4e5bb",
   "metadata": {},
   "source": [
    "## Convert XML-law file into plain txt"
   ]
  },
  {
   "cell_type": "code",
   "execution_count": null,
   "id": "485dabd6-fa81-4080-8634-19a9e8433192",
   "metadata": {},
   "outputs": [],
   "source": [
    "import xml.etree.ElementTree as ET\n",
    "\n",
    "def remove_empty_lines(text):\n",
    "    return '\\n'.join(zeile.strip() for zeile in text.split('\\n') if zeile.strip())\n",
    "\n",
    "def convert_law(law):\n",
    "    tree = ET.parse(f'data/{law}.xml') # As it can be found on gesetze-im-internet.de\n",
    "    root = tree.getroot()\n",
    "    norms = root.findall('norm')\n",
    "\n",
    "    with open(f'data/{law}.txt', 'w', encoding='utf-8') as f:\n",
    "        for norm in norms[4:]: # Skip first elements (TOC, etc.)\n",
    "            metadaten = norm.find(\"metadaten\")\n",
    "            if metadaten is not None:\n",
    "                if metadaten.find('enbez') is None:\n",
    "                    continue\n",
    "                jurabk = metadaten.find('jurabk').text\n",
    "                enbez = metadaten.find('enbez').text\n",
    "                if metadaten.find('titel') is None:\n",
    "                    titel = ''\n",
    "                else:\n",
    "                    titel = metadaten.find('titel').text\n",
    "                metadaten_text = f\"{enbez} {jurabk}: {titel}\"\n",
    "            else:\n",
    "                metadaten_text = \"\"\n",
    "            \n",
    "            textdaten = norm.find('textdaten')\n",
    "            if textdaten is not None:\n",
    "                text = ''\n",
    "                for elem in textdaten.iter():\n",
    "                    if elem.text is not None:\n",
    "                        text += elem.text\n",
    "                text = remove_empty_lines(text)\n",
    "                f.write(f\"{metadaten_text}\\n{text}\\n\\n\")"
   ]
  },
  {
   "cell_type": "code",
   "execution_count": null,
   "id": "baa16877-84f0-4442-abec-35b1a38a1d2a",
   "metadata": {},
   "outputs": [],
   "source": [
    "convert_law('bgb')"
   ]
  }
 ],
 "metadata": {
  "kernelspec": {
   "display_name": "Python 3 (ipykernel)",
   "language": "python",
   "name": "python3"
  },
  "language_info": {
   "codemirror_mode": {
    "name": "ipython",
    "version": 3
   },
   "file_extension": ".py",
   "mimetype": "text/x-python",
   "name": "python",
   "nbconvert_exporter": "python",
   "pygments_lexer": "ipython3",
   "version": "3.12.2"
  }
 },
 "nbformat": 4,
 "nbformat_minor": 5
}
