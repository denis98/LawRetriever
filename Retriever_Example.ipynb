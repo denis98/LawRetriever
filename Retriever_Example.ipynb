{
 "cells": [
  {
   "cell_type": "code",
   "execution_count": null,
   "id": "0870da38-06b4-4460-a32c-c842970088b0",
   "metadata": {},
   "outputs": [],
   "source": [
    "from retriever import paragraph_retriever\n",
    "from langchain_community.chat_models.deepinfra import ChatDeepInfra\n"
   ]
  },
  {
   "cell_type": "code",
   "execution_count": null,
   "id": "e70a2458-b753-4397-9bca-a66ddfca8101",
   "metadata": {},
   "outputs": [],
   "source": [
    "llm = ChatDeepInfra(\n",
    "    model_name=\"nvidia/Llama-3.1-Nemotron-70B-Instruct\",\n",
    "    max_tokens=4096\n",
    ")"
   ]
  },
  {
   "cell_type": "code",
   "execution_count": null,
   "id": "f46d9b14-2a2e-4573-ac69-8cb4e08111cb",
   "metadata": {},
   "outputs": [],
   "source": [
    "retriever = paragraph_retriever(llm)"
   ]
  },
  {
   "cell_type": "code",
   "execution_count": null,
   "id": "385bfbdd-e261-4d38-a980-442286f38dd3",
   "metadata": {},
   "outputs": [],
   "source": [
    "retriever.invoke(\"§ 14 BGB\")"
   ]
  },
  {
   "cell_type": "markdown",
   "id": "21a82898-278d-4c4d-92c7-26beabe16a02",
   "metadata": {},
   "source": [
    "# Use in LangGraph"
   ]
  },
  {
   "cell_type": "code",
   "execution_count": null,
   "id": "fce6a441-d1b5-4e11-9be6-c9cb3a321927",
   "metadata": {},
   "outputs": [],
   "source": [
    "from langchain.tools.retriever import create_retriever_tool\n",
    "from langgraph.prebuilt import ToolNode\n",
    "\n",
    "german_laws = create_retriever_tool(\n",
    "    retriever,\n",
    "    \"retrieve_paragraph\",\n",
    "    \"Lookup for specific Paragraph of any German law. Use the number and abbrevation as identifier like § 13 BGB. The identifier can consist of number and letter.\",\n",
    ")\n",
    "tools = [german_laws]\n",
    "toolnode = ToolNode(tools)\n",
    "\n",
    "llm_with_tools = llm.bind_tools(tools, parallel_tool_calls=False)\n",
    "\n",
    "# Now you can integrate it in your LangGraph-Workflow"
   ]
  }
 ],
 "metadata": {
  "kernelspec": {
   "display_name": "Python . (XPython Raw)",
   "language": "python",
   "name": "xpython-raw"
  },
  "language_info": {
   "file_extension": ".py",
   "mimetype": "text/x-python",
   "name": "python",
   "version": "3.12.9"
  }
 },
 "nbformat": 4,
 "nbformat_minor": 5
}
